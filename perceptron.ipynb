{
 "cells": [
  {
   "cell_type": "code",
   "execution_count": 1,
   "metadata": {},
   "outputs": [],
   "source": [
    "\n",
    "#PyTorch implementation of Single Layer Perceptron to separate linearly separable data\n",
    "\n",
    "#implementation of a single layer Perceptron with gradient descen \n",
    "\n",
    "#A single pattern of data is a 2-dimensional point in the cartesian plane with (-1, 1) labels.\n"
   ]
  },
  {
   "cell_type": "code",
   "execution_count": 2,
   "metadata": {},
   "outputs": [],
   "source": [
    "import torch\n",
    "import pandas as pd\n",
    "import numpy as np\n",
    "import torch.optim as optim\n",
    "import matplotlib.pyplot as plt"
   ]
  },
  {
   "cell_type": "code",
   "execution_count": 3,
   "metadata": {},
   "outputs": [],
   "source": [
    "inputDim = 2\n",
    "losses = []\n",
    "epochs = 10\n",
    "eta = 0.01 #learning rate"
   ]
  },
  {
   "cell_type": "code",
   "execution_count": 4,
   "metadata": {},
   "outputs": [],
   "source": [
    "# we can choose learning method"
   ]
  },
  {
   "cell_type": "code",
   "execution_count": 5,
   "metadata": {},
   "outputs": [],
   "source": [
    "methods = ['backward', 'grad', 'optimizer']\n",
    "method = methods[0]"
   ]
  },
  {
   "cell_type": "code",
   "execution_count": 6,
   "metadata": {},
   "outputs": [],
   "source": [
    "# for read data used CSV for AND,OR,XOR etc\n",
    "\n",
    "data = pd.read_csv('F:\\8th sem\\Soft Computing\\single perceptron\\data.csv') #taking OR The list of point is stored in data.csv file\n",
    "labels = torch.tensor(data['target'].values, dtype=torch.float32)   #target values\n",
    "data = torch.tensor(data[['x', 'y']].values, dtype=torch.float32)   #input values "
   ]
  },
  {
   "cell_type": "code",
   "execution_count": 7,
   "metadata": {},
   "outputs": [],
   "source": [
    "numpt = data.size(0)\n",
    "\n",
    "weights = torch.zeros(inputDim, dtype=torch.float32, requires_grad=True) #initial value set zeros\n",
    "bias = torch.zeros(1, requires_grad=True) #initial value set zeros"
   ]
  },
  {
   "cell_type": "code",
   "execution_count": 8,
   "metadata": {},
   "outputs": [],
   "source": [
    "if method == 'optimizer':\n",
    "    optimizer = optim.SGD((weights, bias),lr=eta) #that will hold the current state and will update the parameters based on the computed gradients."
   ]
  },
  {
   "cell_type": "code",
   "execution_count": 11,
   "metadata": {},
   "outputs": [],
   "source": [
    "for epoch in range(epochs):\n",
    "    total_loss = 0"
   ]
  },
  {
   "cell_type": "code",
   "execution_count": 32,
   "metadata": {},
   "outputs": [],
   "source": [
    "for idx in range(numpt):\n",
    "        # take current input\n",
    "        X = data[idx,:]\n",
    "        y = labels[idx]\n",
    "        \n",
    "\n",
    "        # compute output and loss\n",
    "        out = torch.add(torch.dot(X,weights), bias) #yin = xiwi+b\n",
    "        loss = torch.max(torch.tensor(0, dtype=torch.float32), -1 * out * y) #Returns the maximum value of all elements in the input tensor\n",
    "        total_loss += loss.item()\n",
    "        \n",
    "        if method == 'grad':\n",
    "            gradw = torch.autograd.grad(loss, weights, retain_graph=True) \n",
    "            gradb = torch.autograd.grad(loss, bias, retain_graph=True)\n",
    "\n",
    "            with torch.no_grad():#Disabling gradient calculation is useful for inference, when you are sure that you will not call Tensor.backward().\n",
    "                weights -= eta * gradw[0] #gradient descent x=x-learning rate*df(x)/dx \n",
    "                bias -= eta * gradb[0]\n",
    "        \n",
    "        \n",
    "        elif method == 'backward':      \n",
    "            # backpropagation\n",
    "            loss.backward()\n",
    "         \n",
    "            # compute accuracy and update parameters\n",
    "            with torch.no_grad():\n",
    "                weights -= eta * weights.grad\n",
    "                bias -= eta * bias.grad\n",
    "                # reset gradient to zero\n",
    "                weights.grad.zero_()\n",
    "                bias.grad.zero_()\n",
    "                \n",
    "                \n",
    "        elif method == 'optimizer': \n",
    "            loss.backward()\n",
    "            optimizer.step() #All optimizers implement a step() method, that updates the parameters.\n",
    "            optimizer.zero_grad()\n",
    "            #.backward() mutiple times accumulates the gradient (by addition) for each parameter.call optimizer.zero_grad() after each .step() call\n",
    "\n",
    "\n",
    "losses.append(total_loss / numpt)\n",
    "#print(losses[-1])"
   ]
  },
  {
   "cell_type": "code",
   "execution_count": 33,
   "metadata": {},
   "outputs": [],
   "source": [
    "# plot points, hyperplane and learning curve"
   ]
  },
  {
   "cell_type": "code",
   "execution_count": 34,
   "metadata": {},
   "outputs": [],
   "source": [
    "#model 1 for implement\n"
   ]
  },
  {
   "cell_type": "code",
   "execution_count": 35,
   "metadata": {},
   "outputs": [
    {
     "data": {
      "image/png": "[encoded data removed]",
      "text/plain": [
       "<Figure size 432x288 with 1 Axes>"
      ]
     },
     "metadata": {
      "needs_background": "light"
     },
     "output_type": "display_data"
    }
   ],
   "source": [
    "plt.figure()  \n",
    "plt.scatter(data[:,0].numpy(), data[:,1].numpy(), c=labels.numpy()) \n",
    "xr = np.linspace(0, 5, 2)\n",
    "yr = (-1 / weights[1].item()) * (weights[0].item() * xr  + bias.item())\n",
    "plt.plot(xr, yr,'-')\n",
    "plt.show()"
   ]
  },
  {
   "cell_type": "code",
   "execution_count": 36,
   "metadata": {},
   "outputs": [],
   "source": [
    "# model 2 losses"
   ]
  },
  {
   "cell_type": "code",
   "execution_count": 37,
   "metadata": {},
   "outputs": [
    {
     "data": {
      "image/png": "[encoded data removed]",
      "text/plain": [
       "<Figure size 432x288 with 1 Axes>"
      ]
     },
     "metadata": {
      "needs_background": "light"
     },
     "output_type": "display_data"
    }
   ],
   "source": [
    "plt.figure()\n",
    "plt.plot(losses, '-')\n",
    "plt.show()"
   ]
  },
  {
   "cell_type": "code",
   "execution_count": null,
   "metadata": {},
   "outputs": [],
   "source": []
  }
 ],
 "metadata": {
  "kernelspec": {
   "display_name": "Python 3",
   "language": "python",
   "name": "python3"
  },
  "language_info": {
   "codemirror_mode": {
    "name": "ipython",
    "version": 3
   },
   "file_extension": ".py",
   "mimetype": "text/x-python",
   "name": "python",
   "nbconvert_exporter": "python",
   "pygments_lexer": "ipython3",
   "version": "3.7.0"
  }
 },
 "nbformat": 4,
 "nbformat_minor": 4
}
